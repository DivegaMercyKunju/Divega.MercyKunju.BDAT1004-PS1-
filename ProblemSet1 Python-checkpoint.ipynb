{
 "cells": [
  {
   "cell_type": "code",
   "execution_count": 1,
   "id": "70a9aee2",
   "metadata": {},
   "outputs": [
    {
     "name": "stdout",
     "output_type": "stream",
     "text": [
      "appyhay\n",
      "enterway\n"
     ]
    }
   ],
   "source": [
    "#Question 6\n",
    "def pig(word):\n",
    "    lower_word = word.lower()\n",
    "    first_letter = lower_word[0]\n",
    "    if first_letter in 'aeiou':\n",
    "        return lower_word + \"way\"\n",
    "    else:\n",
    "        return lower_word[1:] + first_letter + \"ay\"\n",
    "\n",
    "print(pig(\"happy\"))\n",
    "print(pig(\"Enter\"))"
   ]
  },
  {
   "cell_type": "code",
   "execution_count": 2,
   "id": "20e518c7",
   "metadata": {},
   "outputs": [
    {
     "ename": "FileNotFoundError",
     "evalue": "[Errno 2] No such file or directory: 'bloodtype.txt'",
     "output_type": "error",
     "traceback": [
      "\u001b[1;31m---------------------------------------------------------------------------\u001b[0m",
      "\u001b[1;31mFileNotFoundError\u001b[0m                         Traceback (most recent call last)",
      "\u001b[1;32m~\\AppData\\Local\\Temp\\ipykernel_15884\\2073066706.py\u001b[0m in \u001b[0;36m<module>\u001b[1;34m\u001b[0m\n\u001b[0;32m     26\u001b[0m   \u001b[0mprint\u001b[0m\u001b[1;33m(\u001b[0m\u001b[1;34m\"There are\"\u001b[0m\u001b[1;33m,\u001b[0m \u001b[0mcount_oo\u001b[0m\u001b[1;33m,\u001b[0m \u001b[1;34m\"patients of blood type OO\"\u001b[0m\u001b[1;33m)\u001b[0m\u001b[1;33m\u001b[0m\u001b[1;33m\u001b[0m\u001b[0m\n\u001b[0;32m     27\u001b[0m \u001b[1;33m\u001b[0m\u001b[0m\n\u001b[1;32m---> 28\u001b[1;33m \u001b[0mbfile\u001b[0m \u001b[1;33m=\u001b[0m \u001b[0mopen\u001b[0m\u001b[1;33m(\u001b[0m\u001b[1;34m\"bloodtype.txt\"\u001b[0m\u001b[1;33m)\u001b[0m\u001b[1;33m\u001b[0m\u001b[1;33m\u001b[0m\u001b[0m\n\u001b[0m\u001b[0;32m     29\u001b[0m \u001b[0mbldcount\u001b[0m\u001b[1;33m(\u001b[0m\u001b[0mbfile\u001b[0m\u001b[1;33m)\u001b[0m\u001b[1;33m\u001b[0m\u001b[1;33m\u001b[0m\u001b[0m\n",
      "\u001b[1;31mFileNotFoundError\u001b[0m: [Errno 2] No such file or directory: 'bloodtype.txt'"
     ]
    }
   ],
   "source": [
    "#Question 7\n",
    "def bldcount(bloodfile):\n",
    "  count_a = 0\n",
    "  count_b = 0\n",
    "  count_o = 0\n",
    "  count_ab = 0\n",
    "  count_oo = 0\n",
    "  for bld in bloodfile:\n",
    "    btypes = bld.strip().split()\n",
    "    for btype in btypes:\n",
    "      if btype == 'A':\n",
    "        count_a += 1\n",
    "      elif btype == 'B':\n",
    "        count_b += 1\n",
    "      elif btype == 'AB':\n",
    "        count_ab += 1\n",
    "      elif btype == 'OO':\n",
    "        count_oo += 1\n",
    "      elif btype == 'O':\n",
    "        count_o += 1\n",
    "\n",
    "  print(\"There are\", count_a, \"patients of blood type A\")\n",
    "  print(\"There are\", count_b, \"patients of blood type B\")\n",
    "  print(\"There are\", count_ab, \"patients of blood type AB\")\n",
    "  print(\"There are\", count_o, \"patients of blood type O\")\n",
    "  print(\"There are\", count_oo, \"patients of blood type OO\")\n",
    "\n",
    "bfile = open(\"bloodtype.txt\")\n",
    "bldcount(bfile)"
   ]
  },
  {
   "cell_type": "code",
   "execution_count": null,
   "id": "b95d5a7e",
   "metadata": {},
   "outputs": [],
   "source": [
    "#Question 8\n"
   ]
  },
  {
   "cell_type": "code",
   "execution_count": null,
   "id": "9e5d7a8b",
   "metadata": {},
   "outputs": [],
   "source": [
    "#Question 9\n",
    "#Trying to add incompatible variables, as in adding 6 + ‘a’\n",
    "TypeError\n",
    "#Referring to the 12th item of a list that has only 10 items\n",
    "Index Error\n",
    "#Using a value that is out of range for a function’s input, such as calling math.sqrt(-1.0) \n",
    "Value Error\n",
    "#Using an undeclared variable, such as print(x) when x has not been defined \n",
    "Name Error\n",
    "#Trying to open a file that does not exist, such as mistyping the file name or looking in the wrong directory.\n",
    "FileNotFound Error"
   ]
  },
  {
   "cell_type": "code",
   "execution_count": 3,
   "id": "91c71596",
   "metadata": {},
   "outputs": [
    {
     "name": "stdout",
     "output_type": "stream",
     "text": [
      "[1, 1, 1, 3, 5, 1, 1, 2, 1, 0, 1, 0, 1, 2, 4, 0, 1, 2, 0, 3, 1, 0, 1, 1, 0, 0]\n",
      "[1, 0, 0, 0, 1, 0, 0, 0, 0, 0, 0, 1, 0, 0, 0, 2, 0, 0, 0, 0, 0, 0, 0, 0, 0, 0]\n"
     ]
    }
   ],
   "source": [
    "#Question 10\n",
    "#Question 10\n",
    "def frequencies(text):\n",
    "    letters = 'abcdefghijklmnopqrstuvwxyz'\n",
    "    freq_list = [0] * 26\n",
    "    for char in text:\n",
    "        if char.lower() in letters:\n",
    "            index = letters.index(char.lower())\n",
    "            freq_list[index] += 1\n",
    "    return freq_list\n",
    "count = frequencies('The quick red fox got bored and went home.')\n",
    "print(count)\n",
    "def frequencies(text):\n",
    "    letters = 'abcdefghijklmnopqrstuvwxyz'\n",
    "    freq_list = [0] * 26\n",
    "    for char in text:\n",
    "        if char.lower() in letters:\n",
    "            index = letters.index(char.lower())\n",
    "            freq_list[index] += 1\n",
    "    return freq_list\n",
    "digits = frequencies('apple.')\n",
    "print(digits)"
   ]
  },
  {
   "cell_type": "code",
   "execution_count": null,
   "id": "22771506",
   "metadata": {},
   "outputs": [],
   "source": []
  }
 ],
 "metadata": {
  "kernelspec": {
   "display_name": "Python 3 (ipykernel)",
   "language": "python",
   "name": "python3"
  },
  "language_info": {
   "codemirror_mode": {
    "name": "ipython",
    "version": 3
   },
   "file_extension": ".py",
   "mimetype": "text/x-python",
   "name": "python",
   "nbconvert_exporter": "python",
   "pygments_lexer": "ipython3",
   "version": "3.9.13"
  }
 },
 "nbformat": 4,
 "nbformat_minor": 5
}
