{
 "cells": [
  {
   "cell_type": "code",
   "execution_count": null,
   "id": "ea657219",
   "metadata": {},
   "outputs": [],
   "source": [
    "//Question 1\n",
    "//Question 1\n",
    "//5 is an integer .\n",
    "//5.0 is a double datatype.\n",
    "//5>1 is a boolean datatype.\n",
    "//'5' is a character datatype.\n",
    "//5*2 is an integer.\n",
    "//'5'*2 is not a datatype.\n",
    "//'5'+'2' is character datatype.\n",
    "//5/2 \n",
    "//5%2\n",
    "//{5,2,1}\n",
    "//5==3 is \n",
    "//Pi(the number )is double datatype"
   ]
  },
  {
   "cell_type": "code",
   "execution_count": 1,
   "id": "8c69009b",
   "metadata": {},
   "outputs": [
    {
     "data": {
      "text/html": [
       "\r\n",
       "<div>\r\n",
       "    <div id='dotnet-interactive-this-cell-33436.Microsoft.DotNet.Interactive.Http.HttpPort' style='display: none'>\r\n",
       "        The below script needs to be able to find the current output cell; this is an easy method to get it.\r\n",
       "    </div>\r\n",
       "    <script type='text/javascript'>\r\n",
       "async function probeAddresses(probingAddresses) {\r\n",
       "    function timeout(ms, promise) {\r\n",
       "        return new Promise(function (resolve, reject) {\r\n",
       "            setTimeout(function () {\r\n",
       "                reject(new Error('timeout'))\r\n",
       "            }, ms)\r\n",
       "            promise.then(resolve, reject)\r\n",
       "        })\r\n",
       "    }\r\n",
       "\r\n",
       "    if (Array.isArray(probingAddresses)) {\r\n",
       "        for (let i = 0; i < probingAddresses.length; i++) {\r\n",
       "\r\n",
       "            let rootUrl = probingAddresses[i];\r\n",
       "\r\n",
       "            if (!rootUrl.endsWith('/')) {\r\n",
       "                rootUrl = `${rootUrl}/`;\r\n",
       "            }\r\n",
       "\r\n",
       "            try {\r\n",
       "                let response = await timeout(1000, fetch(`${rootUrl}discovery`, {\r\n",
       "                    method: 'POST',\r\n",
       "                    cache: 'no-cache',\r\n",
       "                    mode: 'cors',\r\n",
       "                    timeout: 1000,\r\n",
       "                    headers: {\r\n",
       "                        'Content-Type': 'text/plain'\r\n",
       "                    },\r\n",
       "                    body: probingAddresses[i]\r\n",
       "                }));\r\n",
       "\r\n",
       "                if (response.status == 200) {\r\n",
       "                    return rootUrl;\r\n",
       "                }\r\n",
       "            }\r\n",
       "            catch (e) { }\r\n",
       "        }\r\n",
       "    }\r\n",
       "}\r\n",
       "\r\n",
       "function loadDotnetInteractiveApi() {\r\n",
       "    probeAddresses([\"http://10.0.0.246:1002/\", \"http://127.0.0.1:1002/\"])\r\n",
       "        .then((root) => {\r\n",
       "        // use probing to find host url and api resources\r\n",
       "        // load interactive helpers and language services\r\n",
       "        let dotnetInteractiveRequire = require.config({\r\n",
       "        context: '33436.Microsoft.DotNet.Interactive.Http.HttpPort',\r\n",
       "                paths:\r\n",
       "            {\r\n",
       "                'dotnet-interactive': `${root}resources`\r\n",
       "                }\r\n",
       "        }) || require;\r\n",
       "\r\n",
       "            window.dotnetInteractiveRequire = dotnetInteractiveRequire;\r\n",
       "\r\n",
       "            window.configureRequireFromExtension = function(extensionName, extensionCacheBuster) {\r\n",
       "                let paths = {};\r\n",
       "                paths[extensionName] = `${root}extensions/${extensionName}/resources/`;\r\n",
       "                \r\n",
       "                let internalRequire = require.config({\r\n",
       "                    context: extensionCacheBuster,\r\n",
       "                    paths: paths,\r\n",
       "                    urlArgs: `cacheBuster=${extensionCacheBuster}`\r\n",
       "                    }) || require;\r\n",
       "\r\n",
       "                return internalRequire\r\n",
       "            };\r\n",
       "        \r\n",
       "            dotnetInteractiveRequire([\r\n",
       "                    'dotnet-interactive/dotnet-interactive'\r\n",
       "                ],\r\n",
       "                function (dotnet) {\r\n",
       "                    dotnet.init(window);\r\n",
       "                },\r\n",
       "                function (error) {\r\n",
       "                    console.log(error);\r\n",
       "                }\r\n",
       "            );\r\n",
       "        })\r\n",
       "        .catch(error => {console.log(error);});\r\n",
       "    }\r\n",
       "\r\n",
       "// ensure `require` is available globally\r\n",
       "if ((typeof(require) !==  typeof(Function)) || (typeof(require.config) !== typeof(Function))) {\r\n",
       "    let require_script = document.createElement('script');\r\n",
       "    require_script.setAttribute('src', 'https://cdnjs.cloudflare.com/ajax/libs/require.js/2.3.6/require.min.js');\r\n",
       "    require_script.setAttribute('type', 'text/javascript');\r\n",
       "    \r\n",
       "    \r\n",
       "    require_script.onload = function() {\r\n",
       "        loadDotnetInteractiveApi();\r\n",
       "    };\r\n",
       "\r\n",
       "    document.getElementsByTagName('head')[0].appendChild(require_script);\r\n",
       "}\r\n",
       "else {\r\n",
       "    loadDotnetInteractiveApi();\r\n",
       "}\r\n",
       "\r\n",
       "    </script>\r\n",
       "</div>"
      ]
     },
     "metadata": {},
     "output_type": "display_data"
    },
    {
     "name": "stdout",
     "output_type": "stream",
     "text": [
      "String: Supercalifragilisticexpialidocious\n",
      "String Length: 34\n",
      "Yes the word ice is a substring\n"
     ]
    }
   ],
   "source": [
    "//Question 2\n",
    " // Part A and Part B\n",
    "  \n",
    "  string str = \"Supercalifragilisticexpialidocious\";\n",
    " Console.WriteLine(\"String: \" +str);\n",
    " Console.WriteLine(\"String Length: \"+ str.Length);\n",
    " if (str.Contains(\"ice\") == true)\n",
    " { \n",
    " Console.WriteLine(\"Yes the word ice is a substring\");\n",
    " }\n",
    " else\n",
    " {\n",
    " Console.WriteLine(\"No the word ice is not a substring\");\n",
    " }"
   ]
  },
  {
   "cell_type": "code",
   "execution_count": 2,
   "id": "53114122",
   "metadata": {},
   "outputs": [
    {
     "name": "stdout",
     "output_type": "stream",
     "text": [
      "The longest word is: Supercalifragilisticexpialidocious\r\n"
     ]
    }
   ],
   "source": [
    "//Question 2\n",
    "//Part C\n",
    "String[] words = new string [] { \"Supercalifragilisticexpialidocious\", \"Honorificabilitudinitatibus\", \"Bababadalgharaghtakamminarronnkonn\"};\n",
    "string longestWord = words[0];\n",
    "foreach (string word in words)\n",
    "{\n",
    "   if (word.Length > longestWord.Length)\n",
    "   {\n",
    "    longestWord = word;\n",
    "\n",
    "   }\n",
    "}\n",
    "Console.WriteLine(\"The longest word is: \" + longestWord);"
   ]
  },
  {
   "cell_type": "code",
   "execution_count": 3,
   "id": "f8c90688",
   "metadata": {},
   "outputs": [
    {
     "name": "stdout",
     "output_type": "stream",
     "text": [
      "The first composer in dictionary order is: Bartok\n",
      "The last composer in dictionary order is: Buxtehude\n"
     ]
    }
   ],
   "source": [
    "//Question 2\n",
    "//Part D\n",
    "\n",
    "string[] composers = new string[] { \"Berlioz\",\"Borodin\",\"Brain\",\"Bartok\",\"Bellini\",\"Buxtehude\",\"Bernstein\"};\n",
    "\n",
    "Array.Sort(composers);\n",
    "\n",
    "Console.WriteLine(\"The first composer in dictionary order is: \" + composers[0]);\n",
    "Console.WriteLine(\"The last composer in dictionary order is: \" + composers[composers.Length - 1]);"
   ]
  },
  {
   "cell_type": "code",
   "execution_count": 4,
   "id": "10b46a6c",
   "metadata": {},
   "outputs": [
    {
     "name": "stdout",
     "output_type": "stream",
     "text": [
      "1.7320508075688772\r\n"
     ]
    }
   ],
   "source": [
    "//Question 3\n",
    "        {\n",
    "            Console.WriteLine(triangleArea(2, 2, 2));\n",
    "        }\n",
    "\n",
    "        static double triangleArea(double a, double b, double c)\n",
    "        {\n",
    "            double s = (a + b + c) / 2;\n",
    "            return Math.Sqrt(s * (s - a) * (s - b) * (s - c));\n",
    "        }"
   ]
  },
  {
   "cell_type": "code",
   "execution_count": 5,
   "id": "3ef5120a",
   "metadata": {},
   "outputs": [
    {
     "name": "stdout",
     "output_type": "stream",
     "text": [
      "The Even elements are: \n",
      "42 \t56 \t32 \t\n",
      "The Odd elements are: \n",
      "25 \t47 \t"
     ]
    }
   ],
   "source": [
    "//Question 4\n",
    "\n",
    "        \n",
    "          //  Console.WriteLine(\"Input the number of elemets to be stored in the array: \");\n",
    "            //  int no = Convert.ToInt32(Console.ReadLine());\n",
    "            int no = 5;\n",
    "            int[] a = new int[5] { 25, 47, 42, 56, 32 };\n",
    "            int[] odd = new int[no];\n",
    "            int[] even = new int[no];\n",
    "            int i, j, k;\n",
    "           // for (i=0;i<no;i++)\n",
    "           // {\n",
    "           //     Console.WriteLine($\"Enter element {i + 1}: \");\n",
    "           //     a[i] = Convert.ToInt32(Console.ReadLine());\n",
    "           // }\n",
    "            for (i = 0, j = 0, k = 0; i < no; i++)\n",
    "            {\n",
    "                if ((a[i]%2)==0)\n",
    "                {\n",
    "                    even[j] = a[i];\n",
    "                    j++;\n",
    "                }\n",
    "                else\n",
    "                {\n",
    "                    odd[k]= a[i];\n",
    "                    k++;\n",
    "                }\n",
    "            }\n",
    "            Console.WriteLine(\"The Even elements are: \");\n",
    "            for(i=0;i<j;i++)\n",
    "            {\n",
    "                Console.Write($\"{even[i]} \\t\");\n",
    "            }\n",
    "            Console.WriteLine();\n",
    "            Console.WriteLine(\"The Odd elements are: \");\n",
    "            for (i = 0; i < k; i++)\n",
    "            {\n",
    "                Console.Write($\"{odd[i]} \\t\");\n",
    "            }"
   ]
  },
  {
   "cell_type": "code",
   "execution_count": 6,
   "id": "d2358da4",
   "metadata": {},
   "outputs": [
    {
     "name": "stdout",
     "output_type": "stream",
     "text": [
      "True\n",
      "False\n"
     ]
    }
   ],
   "source": [
    "//Question 5 \n",
    "//Part A\n",
    "\n",
    "{\n",
    "            Console.WriteLine(Inside(1, 1, 0, 0, 2, 3));  // True\n",
    "            Console.WriteLine(Inside(-1, -1, 0, 0, 2, 3));  // False\n",
    "            Console.ReadLine();\n",
    "        }\n",
    "\n",
    "        static bool Inside(int x, int y, int x1, int y1, int x2, int y2)\n",
    "        {\n",
    "            return x >= x1 && x <= x2 && y >= y1 && y <= y2;\n",
    "        }\n"
   ]
  },
  {
   "cell_type": "code",
   "execution_count": 7,
   "id": "34863e72",
   "metadata": {},
   "outputs": [
    {
     "name": "stdout",
     "output_type": "stream",
     "text": [
      "False\r\n"
     ]
    }
   ],
   "source": [
    "//Question 5\n",
    "//Part B\n",
    "Console.WriteLine(Inside(1, 1, (int)0.3, (int)0.5, (int)1.1, (int)0.7) && Inside(1, 1, (int)0.5, (int)0.2, (int)1.1, (int)2));\n",
    "Console.ReadLine();"
   ]
  },
  {
   "cell_type": "code",
   "execution_count": null,
   "id": "be9bf2c7",
   "metadata": {},
   "outputs": [],
   "source": []
  }
 ],
 "metadata": {
  "kernelspec": {
   "display_name": ".NET (C#)",
   "language": "C#",
   "name": ".net-csharp"
  },
  "language_info": {
   "file_extension": ".cs",
   "mimetype": "text/x-csharp",
   "name": "C#",
   "pygments_lexer": "csharp",
   "version": "8.0"
  }
 },
 "nbformat": 4,
 "nbformat_minor": 5
}
